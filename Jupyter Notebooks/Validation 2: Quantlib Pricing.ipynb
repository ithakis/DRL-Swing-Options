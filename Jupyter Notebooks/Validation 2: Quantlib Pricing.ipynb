{
 "cells": [
  {
   "cell_type": "code",
   "execution_count": 1,
   "id": "ea9453af",
   "metadata": {},
   "outputs": [
    {
     "data": {
      "text/plain": [
       "1.2129091862251442"
      ]
     },
     "execution_count": 1,
     "metadata": {},
     "output_type": "execute_result"
    }
   ],
   "source": [
    "import sys\n",
    "\n",
    "# Add the project root directory to Python path\n",
    "sys.path.append('/Users/alexanderithakis/Documents/GitHub/D4PG-QR-FRM')\n",
    "\n",
    "# Relaod the src modules to ensure the latest changes are used\n",
    "import importlib\n",
    "import src.fdm_swing_pricer\n",
    "import src.swing_contract\n",
    "importlib.reload(src.fdm_swing_pricer)\n",
    "importlib.reload(src.swing_contract)\n",
    "from src.fdm_swing_pricer import price_swing_option_fdm\n",
    "from src.swing_contract import SwingContract\n",
    "from src.simulate_hhk_spot import no_seasonal_function\n",
    "\n",
    "# Monthly Swing Option Contract Parameters\n",
    "swing_contract = SwingContract(\n",
    "    q_min=0.0,                  # No minimum exercise requirement per day\n",
    "    q_max=2.0,                  # Max 2 units per day (reasonable daily limit)\n",
    "    Q_min=0.0,                  # No minimum total exercise requirement\n",
    "    Q_max=20.0,                 # Max 20 units total over the month (10 days worth)\n",
    "    strike=1.0,                 # At-the-money strike\n",
    "    maturity=1/12,              # 1 month = 1/12 year\n",
    "    n_rights=22,                # ~22 trading days in a month\n",
    "    r=0.05,                     # 5% annual risk-free rate\n",
    "    min_refraction_days=0       # No refraction period (can exercise daily)\n",
    ")\n",
    "\n",
    "# Market Process Parameters (HHK model - monthly calibration)\n",
    "stochastic_process_params = {\n",
    "    'S0': 1.0,                  # Initial spot price\n",
    "    'T': swing_contract.maturity, # 1/12 year\n",
    "    'n_steps': swing_contract.n_rights - 1,  # 21 steps (22 decision points)\n",
    "    'n_paths': 8192,            # Evaluation paths for LSM\n",
    "    'alpha': 12.0,              # Higher mean reversion for monthly timeframe\n",
    "    'sigma': 1.2,               # Moderate volatility for monthly period\n",
    "    'beta': 150.0,              # Jump decay rate\n",
    "    'lam': 6.0,                 # Jump intensity (6 jumps per year average)\n",
    "    'mu_J': 0.3,                # Mean jump size (30%)\n",
    "    'f': no_seasonal_function   # No seasonal function\n",
    "}\n",
    "\n",
    "price_swing_option_fdm(\n",
    "    contract=swing_contract,\n",
    "    stochastic_process_params=stochastic_process_params,\n",
    "    tGrid=25,\n",
    "    xGrid=25,\n",
    "    yGrid=50,  # Adjusted yGrid for better performance\n",
    ")"
   ]
  }
 ],
 "metadata": {
  "kernelspec": {
   "display_name": "EP11",
   "language": "python",
   "name": "python3"
  },
  "language_info": {
   "codemirror_mode": {
    "name": "ipython",
    "version": 3
   },
   "file_extension": ".py",
   "mimetype": "text/x-python",
   "name": "python",
   "nbconvert_exporter": "python",
   "pygments_lexer": "ipython3",
   "version": "3.11.13"
  }
 },
 "nbformat": 4,
 "nbformat_minor": 5
}
